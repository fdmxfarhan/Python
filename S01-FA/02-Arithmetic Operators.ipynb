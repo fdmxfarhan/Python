{
 "cells": [
  {
   "cell_type": "markdown",
   "id": "20e8beb0",
   "metadata": {},
   "source": [
    "# عملگرهای محاسباتی در پایتون\n",
    "\n",
    "عملگرهای محاسباتی در پایتون برای انجام عملیات های ریاضی و محاسبات استفاده می‌شود.\n",
    "\n",
    "---\n",
    "\n",
    "## جمع (`+`)\n",
    "\n",
    "جمع دو عدد با یکدیگر\n",
    "\n"
   ]
  },
  {
   "cell_type": "code",
   "execution_count": 1,
   "id": "0f3c6143",
   "metadata": {},
   "outputs": [
    {
     "name": "stdout",
     "output_type": "stream",
     "text": [
      "5\n"
     ]
    }
   ],
   "source": [
    "print(3 + 2)"
   ]
  },
  {
   "cell_type": "markdown",
   "id": "4da46917",
   "metadata": {},
   "source": [
    "## تفریق (-)\n",
    "تفریق دو عدد از هم"
   ]
  },
  {
   "cell_type": "code",
   "execution_count": 2,
   "id": "d94334cf",
   "metadata": {},
   "outputs": [
    {
     "name": "stdout",
     "output_type": "stream",
     "text": [
      "3\n"
     ]
    }
   ],
   "source": [
    "print(7 - 4)"
   ]
  },
  {
   "cell_type": "markdown",
   "id": "c85f9ade",
   "metadata": {},
   "source": [
    "## ضرب (*)\n",
    "ضرب دو عدد در یکدیگر"
   ]
  },
  {
   "cell_type": "code",
   "execution_count": 3,
   "id": "5a117af6",
   "metadata": {},
   "outputs": [
    {
     "name": "stdout",
     "output_type": "stream",
     "text": [
      "30\n"
     ]
    }
   ],
   "source": [
    "print(6 * 5)"
   ]
  },
  {
   "cell_type": "markdown",
   "id": "28abe388",
   "metadata": {},
   "source": [
    "## تقسیم (/)\n",
    "تقسیم یک عدد بر یک عدد دیگر."
   ]
  },
  {
   "cell_type": "code",
   "execution_count": 4,
   "id": "a88e6d72",
   "metadata": {},
   "outputs": [
    {
     "name": "stdout",
     "output_type": "stream",
     "text": [
      "4.0\n"
     ]
    }
   ],
   "source": [
    "print(8 / 2)"
   ]
  },
  {
   "cell_type": "markdown",
   "id": "cf4930e6",
   "metadata": {},
   "source": [
    "## خارج قسمت صحیح (//)\n",
    "خارج قسمت صحیح تقسیم دو عدد بر یکدیگر"
   ]
  },
  {
   "cell_type": "code",
   "execution_count": 5,
   "id": "538bbc04",
   "metadata": {},
   "outputs": [
    {
     "name": "stdout",
     "output_type": "stream",
     "text": [
      "4\n"
     ]
    }
   ],
   "source": [
    "print(9 // 2)"
   ]
  },
  {
   "cell_type": "markdown",
   "id": "9266ec76",
   "metadata": {},
   "source": [
    "## باقی مانده (%)\n",
    "باقی مانده تقسیم دو عدد بر یکدیگر"
   ]
  },
  {
   "cell_type": "code",
   "execution_count": 6,
   "id": "c785a38f",
   "metadata": {},
   "outputs": [
    {
     "name": "stdout",
     "output_type": "stream",
     "text": [
      "1\n"
     ]
    }
   ],
   "source": [
    "print(10 % 3)"
   ]
  },
  {
   "cell_type": "markdown",
   "id": "6654b6ff",
   "metadata": {},
   "source": [
    "## توان (**)\n",
    "یک عدد به توان یک عدد دیگر"
   ]
  },
  {
   "cell_type": "code",
   "execution_count": 7,
   "id": "f21b5daf",
   "metadata": {},
   "outputs": [
    {
     "name": "stdout",
     "output_type": "stream",
     "text": [
      "8\n"
     ]
    }
   ],
   "source": [
    "print(2 ** 3)"
   ]
  },
  {
   "cell_type": "markdown",
   "id": "1775ac4a",
   "metadata": {},
   "source": [
    "---\n",
    "\n",
    "## تمرین 1:\n",
    "\n",
    "با دستور زیر چه چیزی پرینت می‌شود؟\n",
    "\n",
    "```python\n",
    "print(4 * 3 + 2)"
   ]
  },
  {
   "cell_type": "markdown",
   "id": "2a4ea1d9",
   "metadata": {},
   "source": [
    "---\n",
    "\n",
    "## تمرین 2:\n",
    "\n",
    "با دستور زیر چه چیزی پرینت می‌شود؟\n",
    "\n",
    "```python\n",
    "print((10 - 2) // 3)"
   ]
  }
 ],
 "metadata": {
  "kernelspec": {
   "display_name": "Python 3",
   "language": "python",
   "name": "python3"
  },
  "language_info": {
   "codemirror_mode": {
    "name": "ipython",
    "version": 3
   },
   "file_extension": ".py",
   "mimetype": "text/x-python",
   "name": "python",
   "nbconvert_exporter": "python",
   "pygments_lexer": "ipython3",
   "version": "3.13.5"
  }
 },
 "nbformat": 4,
 "nbformat_minor": 5
}
