{
 "cells": [
  {
   "cell_type": "markdown",
   "id": "180471f0",
   "metadata": {},
   "source": [
    "# دستور پرینت در پایتون\n",
    "دستور پرینت در پایتون برای نمایش کلمات و اعداد استفاده می‌شود."
   ]
  },
  {
   "cell_type": "code",
   "execution_count": 1,
   "id": "fa8f6d5d",
   "metadata": {},
   "outputs": [
    {
     "name": "stdout",
     "output_type": "stream",
     "text": [
      "Hello, World!\n"
     ]
    }
   ],
   "source": [
    "print(\"Hello, World!\")"
   ]
  },
  {
   "cell_type": "markdown",
   "id": "d8b33f8e",
   "metadata": {},
   "source": [
    "# پرینت چند داده باهم\n",
    "با دستور زیر میتوان چند کلمه یا عدد را باهم پرینت کنیم. بین هر کدام از این کلمات و اعداد با اسپیس از هم جدا می‌شوند."
   ]
  },
  {
   "cell_type": "code",
   "execution_count": 3,
   "id": "de8f12f0",
   "metadata": {},
   "outputs": [
    {
     "name": "stdout",
     "output_type": "stream",
     "text": [
      "Name: Alice Age: 30\n"
     ]
    }
   ],
   "source": [
    "print(\"Name:\", \"Alice\", \"Age:\", 30)"
   ]
  },
  {
   "cell_type": "markdown",
   "id": "20645033",
   "metadata": {},
   "source": [
    "# چدا کردن کلمات\n",
    "میتوان با کامند زیر کاراکتری که بین کلمات چاپ میشود را مشخص کرد."
   ]
  },
  {
   "cell_type": "code",
   "execution_count": 4,
   "id": "6ff3405f",
   "metadata": {},
   "outputs": [
    {
     "name": "stdout",
     "output_type": "stream",
     "text": [
      "apple, banana, cherry\n"
     ]
    }
   ],
   "source": [
    "print(\"apple\", \"banana\", \"cherry\", sep=\", \")"
   ]
  },
  {
   "cell_type": "markdown",
   "id": "69ee0159",
   "metadata": {},
   "source": [
    "## کاراکتر انتهایی\n",
    "به صورت دیفالت دستور پرینت انتهای هر کلمه یا عدد یک اینتر میزند و از سر خط دستور بعدی اجرا می‌شود. اما اگر بخواهیم با کامند زیر می‌توانیم کاراکتر انتهایی پرینت را عوض کنیم."
   ]
  },
  {
   "cell_type": "code",
   "execution_count": 5,
   "id": "111648e5",
   "metadata": {},
   "outputs": [
    {
     "name": "stdout",
     "output_type": "stream",
     "text": [
      "Hello World!\n"
     ]
    }
   ],
   "source": [
    "print(\"Hello\", end=\" \")\n",
    "print(\"World!\")"
   ]
  },
  {
   "cell_type": "markdown",
   "id": "20119fad",
   "metadata": {},
   "source": [
    "# کاراکترهای خاص\n",
    "\n",
    "کاراکتر های زیر برای نمایش اینتر و تب استفاده می‌شود."
   ]
  },
  {
   "cell_type": "code",
   "execution_count": 6,
   "id": "3bc2a90b",
   "metadata": {},
   "outputs": [
    {
     "name": "stdout",
     "output_type": "stream",
     "text": [
      "Line 1\n",
      "Line 2\n",
      "Column1\tColumn2\n"
     ]
    }
   ],
   "source": [
    "print('Line 1\\nLine 2')\n",
    "print('Column1\\tColumn2')"
   ]
  }
 ],
 "metadata": {
  "kernelspec": {
   "display_name": "Python 3",
   "language": "python",
   "name": "python3"
  },
  "language_info": {
   "codemirror_mode": {
    "name": "ipython",
    "version": 3
   },
   "file_extension": ".py",
   "mimetype": "text/x-python",
   "name": "python",
   "nbconvert_exporter": "python",
   "pygments_lexer": "ipython3",
   "version": "3.13.0"
  }
 },
 "nbformat": 4,
 "nbformat_minor": 5
}
