{
 "cells": [
  {
   "cell_type": "markdown",
   "id": "5e5fddca",
   "metadata": {},
   "source": [
    "# Using the input() Function\n",
    "\n",
    "The `input()` function in Python allows you to prompt the user for input. The input is always returned as a string."
   ]
  },
  {
   "cell_type": "code",
   "execution_count": null,
   "id": "2100f243",
   "metadata": {},
   "outputs": [],
   "source": [
    "# Prompt the user for their name and display it\n",
    "name = input(\"Enter your name: \")\n",
    "print(\"Hello,\", name)"
   ]
  },
  {
   "cell_type": "markdown",
   "id": "c8404035",
   "metadata": {},
   "source": [
    "# Converting Input Types\n",
    "\n",
    "By default, `input()` returns a string. To work with numbers, you need to convert the input to the appropriate type, such as `int` or `float`."
   ]
  },
  {
   "cell_type": "code",
   "execution_count": null,
   "id": "8baf2e70",
   "metadata": {},
   "outputs": [],
   "source": [
    "# Prompt the user for their age and convert it to an integer\n",
    "age = int(input(\"Enter your age: \"))\n",
    "print(\"You are\", age, \"years old.\")"
   ]
  },
  {
   "cell_type": "markdown",
   "id": "918db6a5",
   "metadata": {},
   "source": [
    "# Handling Multiple Inputs\n",
    "\n",
    "You can accept multiple values from the user in a single line using `split()`. This is useful for reading several inputs at once."
   ]
  },
  {
   "cell_type": "code",
   "execution_count": null,
   "id": "97d44280",
   "metadata": {},
   "outputs": [],
   "source": [
    "# Prompt the user for two numbers separated by space and add them\n",
    "numbers = input(\"Enter two numbers separated by space: \")\n",
    "num1, num2 = numbers.split()\n",
    "num1 = int(num1)\n",
    "num2 = int(num2)\n",
    "print(\"The sum is:\", num1 + num2)"
   ]
  },
  {
   "cell_type": "markdown",
   "id": "1e36006e",
   "metadata": {},
   "source": [
    "# Input Validation with Try-Except\n",
    "\n",
    "It's important to validate user input to handle errors gracefully. Use a `try-except` block to catch invalid input and prompt the user again."
   ]
  },
  {
   "cell_type": "code",
   "execution_count": null,
   "id": "f560beb6",
   "metadata": {},
   "outputs": [],
   "source": [
    "# Prompt the user for a number and handle invalid input\n",
    "while True:\n",
    "    try:\n",
    "        value = float(input(\"Enter a number: \"))\n",
    "        print(\"You entered:\", value)\n",
    "        break\n",
    "    except ValueError:\n",
    "        print(\"Invalid input. Please enter a valid number.\")"
   ]
  }
 ],
 "metadata": {
  "kernelspec": {
   "display_name": "Python 3",
   "language": "python",
   "name": "python3"
  },
  "language_info": {
   "codemirror_mode": {
    "name": "ipython",
    "version": 3
   },
   "file_extension": ".py",
   "mimetype": "text/x-python",
   "name": "python",
   "nbconvert_exporter": "python",
   "pygments_lexer": "ipython3",
   "version": "3.13.5"
  }
 },
 "nbformat": 4,
 "nbformat_minor": 5
}
