{
 "cells": [
  {
   "cell_type": "markdown",
   "id": "a5d0c3bf",
   "metadata": {},
   "source": [
    "🧠 Concepts: falling objects, player movement, collision\n",
    "\n",
    "Blocks fall from the top of the screen and the player must avoid them. It teaches collision detection and game-over logic."
   ]
  }
 ],
 "metadata": {
  "language_info": {
   "name": "python"
  }
 },
 "nbformat": 4,
 "nbformat_minor": 5
}
