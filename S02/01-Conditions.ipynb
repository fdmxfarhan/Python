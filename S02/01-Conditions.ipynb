{
 "cells": [
  {
   "cell_type": "markdown",
   "id": "0051a409",
   "metadata": {},
   "source": [
    "# 🐍 Python Tutorial: Conditions (Part 1)\n",
    "\n",
    "Welcome to this episode of the Python tutorial series! In this part, we’ll explore **basic conditions** in Python—how to let your program make decisions based on certain situations.\n",
    "\n",
    "⚠️ Note: This tutorial **does not cover `and` / `or` logical operators**. We'll learn those in the next episode.\n",
    "\n",
    "---\n",
    "\n",
    "## ✅ What are Conditions?\n",
    "\n",
    "In Python, conditions are used to execute code **only if** a certain expression is `True`. Think of it as asking:\n",
    "\n",
    "> \"If something is true, what should I do?\"\n",
    "\n",
    "---\n",
    "\n",
    "## 🧠 The `if` Statement\n",
    "\n",
    "The `if` statement is used to test a condition.\n",
    "\n",
    "### Syntax:\n",
    "\n",
    "```python\n",
    "if condition:\n",
    "    # code to run if condition is true\n",
    "\n"
   ]
  },
  {
   "cell_type": "code",
   "execution_count": 1,
   "id": "55fd6695",
   "metadata": {},
   "outputs": [
    {
     "name": "stdout",
     "output_type": "stream",
     "text": [
      "It's warm!\n"
     ]
    }
   ],
   "source": [
    "temperature = 25\n",
    "\n",
    "if temperature > 20:\n",
    "    print(\"It's warm!\")\n"
   ]
  },
  {
   "cell_type": "markdown",
   "id": "66cb1f75",
   "metadata": {},
   "source": [
    "## 🧱 if and else\n",
    "If you want to do something when the condition is false, use else.\n",
    "\n",
    "Example:"
   ]
  },
  {
   "cell_type": "code",
   "execution_count": 2,
   "id": "5aa104d1",
   "metadata": {},
   "outputs": [
    {
     "name": "stdout",
     "output_type": "stream",
     "text": [
      "It's cold!\n"
     ]
    }
   ],
   "source": [
    "temperature = 15\n",
    "\n",
    "if temperature > 20:\n",
    "    print(\"It's warm!\")\n",
    "else:\n",
    "    print(\"It's cold!\")\n"
   ]
  },
  {
   "cell_type": "markdown",
   "id": "5eb44cff",
   "metadata": {},
   "source": [
    "## 🔁 if, elif, and else\n",
    "Sometimes, there are multiple conditions. That’s when elif (short for \"else if\") comes in handy.\n",
    "\n",
    "Example:"
   ]
  },
  {
   "cell_type": "code",
   "execution_count": 3,
   "id": "cec82fd4",
   "metadata": {},
   "outputs": [
    {
     "name": "stdout",
     "output_type": "stream",
     "text": [
      "It's warm!\n"
     ]
    }
   ],
   "source": [
    "temperature = 20\n",
    "\n",
    "if temperature > 25:\n",
    "    print(\"It's hot!\")\n",
    "elif temperature > 15:\n",
    "    print(\"It's warm!\")\n",
    "else:\n",
    "    print(\"It's cold!\")\n"
   ]
  },
  {
   "cell_type": "markdown",
   "id": "3f35bdf5",
   "metadata": {},
   "source": [
    "## ✨ Example: Check Age\n"
   ]
  },
  {
   "cell_type": "code",
   "execution_count": 4,
   "id": "208bcc8b",
   "metadata": {},
   "outputs": [
    {
     "name": "stdout",
     "output_type": "stream",
     "text": [
      "You are an adult.\n"
     ]
    }
   ],
   "source": [
    "age = 18\n",
    "\n",
    "if age >= 18:\n",
    "    print(\"You are an adult.\")\n",
    "else:\n",
    "    print(\"You are a minor.\")\n"
   ]
  },
  {
   "cell_type": "markdown",
   "id": "b605c3f8",
   "metadata": {},
   "source": [
    "## Practices:\n",
    "\n",
    "1. Ask the user for a number and print whether it's even or odd.\n"
   ]
  },
  {
   "cell_type": "code",
   "execution_count": 5,
   "id": "362fe2aa",
   "metadata": {},
   "outputs": [
    {
     "ename": "ValueError",
     "evalue": "invalid literal for int() with base 10: ''",
     "output_type": "error",
     "traceback": [
      "\u001b[31m---------------------------------------------------------------------------\u001b[39m",
      "\u001b[31mValueError\u001b[39m                                Traceback (most recent call last)",
      "\u001b[36mCell\u001b[39m\u001b[36m \u001b[39m\u001b[32mIn[5]\u001b[39m\u001b[32m, line 1\u001b[39m\n\u001b[32m----> \u001b[39m\u001b[32m1\u001b[39m number = \u001b[38;5;28;43mint\u001b[39;49m\u001b[43m(\u001b[49m\u001b[38;5;28;43minput\u001b[39;49m\u001b[43m(\u001b[49m\u001b[33;43m\"\u001b[39;49m\u001b[33;43mEnter a number: \u001b[39;49m\u001b[33;43m\"\u001b[39;49m\u001b[43m)\u001b[49m\u001b[43m)\u001b[49m\n\u001b[32m      3\u001b[39m \u001b[38;5;28;01mif\u001b[39;00m number % \u001b[32m2\u001b[39m == \u001b[32m0\u001b[39m:\n\u001b[32m      4\u001b[39m     \u001b[38;5;28mprint\u001b[39m(\u001b[33m\"\u001b[39m\u001b[33mEven\u001b[39m\u001b[33m\"\u001b[39m)\n",
      "\u001b[31mValueError\u001b[39m: invalid literal for int() with base 10: ''"
     ]
    }
   ],
   "source": [
    "number = int(input(\"Enter a number: \"))\n",
    "\n",
    "if number % 2 == 0:\n",
    "    print(\"Even\")\n",
    "else:\n",
    "    print(\"Odd\")"
   ]
  },
  {
   "cell_type": "markdown",
   "id": "8aafd089",
   "metadata": {},
   "source": [
    "2. Get a student's grade and print \"Pass\" if it’s 50 or more, otherwise print \"Fail\"."
   ]
  },
  {
   "cell_type": "code",
   "execution_count": null,
   "id": "64896c1e",
   "metadata": {},
   "outputs": [],
   "source": [
    "grade = int(input(\"Enter your grade: \"))\n",
    "\n",
    "if grade >= 50:\n",
    "    print(\"Pass\")\n",
    "else:\n",
    "    print(\"Fail\")"
   ]
  },
  {
   "cell_type": "markdown",
   "id": "506812f5",
   "metadata": {},
   "source": [
    "3. If the driver’s speed is over 100, print \"Fine issued\", otherwise print \"Safe driving\"."
   ]
  },
  {
   "cell_type": "code",
   "execution_count": null,
   "id": "fbd64b1c",
   "metadata": {},
   "outputs": [],
   "source": [
    "speed = int(input(\"Enter your speed: \"))\n",
    "\n",
    "if speed > 100:\n",
    "    print(\"Fine issued\")\n",
    "else:\n",
    "    print(\"Safe driving\")"
   ]
  },
  {
   "cell_type": "markdown",
   "id": "e1e35dc0",
   "metadata": {},
   "source": [
    "4. Print whether a number is positive, negative, or zero."
   ]
  },
  {
   "cell_type": "code",
   "execution_count": null,
   "id": "98046623",
   "metadata": {},
   "outputs": [],
   "source": [
    "number = int(input(\"Enter a number: \"))\n",
    "\n",
    "if number > 0:\n",
    "    print(\"Positive\")\n",
    "elif number < 0:\n",
    "    print(\"Negative\")\n",
    "else:\n",
    "    print(\"Zero\")"
   ]
  },
  {
   "cell_type": "markdown",
   "id": "cd2a4991",
   "metadata": {},
   "source": [
    "5. Based on temperature input:\n",
    "- Above 30: \"Too hot\"\n",
    "- Between 15–30: \"Pleasant\"\n",
    "- Below 15: \"Too cold\"\n"
   ]
  },
  {
   "cell_type": "code",
   "execution_count": null,
   "id": "3ce567fc",
   "metadata": {},
   "outputs": [],
   "source": [
    "temp = int(input(\"Enter temperature: \"))\n",
    "\n",
    "if temp > 30:\n",
    "    print(\"Too hot\")\n",
    "elif temp >= 15:\n",
    "    print(\"Pleasant\")\n",
    "else:\n",
    "    print(\"Too cold\")"
   ]
  },
  {
   "cell_type": "markdown",
   "id": "eec5c969",
   "metadata": {},
   "source": [
    "6. Ask for age and print if user is eligible to vote (age >= 18)."
   ]
  },
  {
   "cell_type": "code",
   "execution_count": null,
   "id": "5c30ae78",
   "metadata": {},
   "outputs": [],
   "source": [
    "age = int(input(\"Enter your age: \"))\n",
    "\n",
    "if age >= 18:\n",
    "    print(\"You can vote!\")\n",
    "else:\n",
    "    print(\"You are too young to vote.\")"
   ]
  },
  {
   "cell_type": "markdown",
   "id": "c1bbf018",
   "metadata": {},
   "source": [
    "7. Based on a score:\n",
    "- 90+: A\n",
    "- 80–89: B\n",
    "- 70–79: C\n",
    "- Below 70: Fail"
   ]
  },
  {
   "cell_type": "code",
   "execution_count": null,
   "id": "dc9e10ef",
   "metadata": {},
   "outputs": [],
   "source": [
    "score = int(input(\"Enter your score: \"))\n",
    "\n",
    "if score >= 90:\n",
    "    print(\"Grade A\")\n",
    "elif score >= 80:\n",
    "    print(\"Grade B\")\n",
    "elif score >= 70:\n",
    "    print(\"Grade C\")\n",
    "else:\n",
    "    print(\"Fail\")"
   ]
  },
  {
   "cell_type": "markdown",
   "id": "3e853de2",
   "metadata": {},
   "source": [
    "8. Ask the user for a password. If it matches \"admin123\", print \"Access granted\", else print \"Access denied\"."
   ]
  },
  {
   "cell_type": "code",
   "execution_count": null,
   "id": "6c3f0e56",
   "metadata": {},
   "outputs": [],
   "source": [
    "password = input(\"Enter password: \")\n",
    "\n",
    "if password == \"admin123\":\n",
    "    print(\"Access granted\")\n",
    "else:\n",
    "    print(\"Access denied\")"
   ]
  },
  {
   "cell_type": "markdown",
   "id": "6e496486",
   "metadata": {},
   "source": [
    "9. Check if a year is divisible by 4, then it's a leap year (simplified version)."
   ]
  },
  {
   "cell_type": "code",
   "execution_count": null,
   "id": "f813be65",
   "metadata": {},
   "outputs": [],
   "source": [
    "year = int(input(\"Enter a year: \"))\n",
    "\n",
    "if year % 4 == 0:\n",
    "    print(\"Leap year\")\n",
    "else:\n",
    "    print(\"Not a leap year\")"
   ]
  },
  {
   "cell_type": "markdown",
   "id": "f4e80929",
   "metadata": {},
   "source": [
    "10. Get a number between 1–7 and print the day of the week."
   ]
  },
  {
   "cell_type": "code",
   "execution_count": null,
   "id": "f148443b",
   "metadata": {},
   "outputs": [],
   "source": [
    "day = int(input(\"Enter a number (1-7): \"))\n",
    "\n",
    "if day == 1:\n",
    "    print(\"Monday\")\n",
    "elif day == 2:\n",
    "    print(\"Tuesday\")\n",
    "elif day == 3:\n",
    "    print(\"Wednesday\")\n",
    "elif day == 4:\n",
    "    print(\"Thursday\")\n",
    "elif day == 5:\n",
    "    print(\"Friday\")\n",
    "elif day == 6:\n",
    "    print(\"Saturday\")\n",
    "elif day == 7:\n",
    "    print(\"Sunday\")\n",
    "else:\n",
    "    print(\"Invalid input\")"
   ]
  },
  {
   "cell_type": "markdown",
   "id": "0defad3d",
   "metadata": {},
   "source": []
  }
 ],
 "metadata": {
  "kernelspec": {
   "display_name": "Python 3",
   "language": "python",
   "name": "python3"
  },
  "language_info": {
   "codemirror_mode": {
    "name": "ipython",
    "version": 3
   },
   "file_extension": ".py",
   "mimetype": "text/x-python",
   "name": "python",
   "nbconvert_exporter": "python",
   "pygments_lexer": "ipython3",
   "version": "3.13.0"
  }
 },
 "nbformat": 4,
 "nbformat_minor": 5
}
