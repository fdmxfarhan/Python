{
 "cells": [
  {
   "cell_type": "markdown",
   "id": "78e8c401",
   "metadata": {},
   "source": [
    "برای آموزش `pip` در پایتون، می‌توانید به دانش‌آموزانتان بسته‌های زیر را معرفی کنید تا نصب کنند — این بسته‌ها **ساده، کاربردی و مناسب مبتدیان** هستند:\n",
    "\n",
    "---\n",
    "\n",
    "### 📦 بسته‌های پیشنهادی برای آموزش:\n",
    "\n",
    "| نام بسته     | کاربرد                                         |\n",
    "| ------------ | ---------------------------------------------- |\n",
    "| `requests`   | ارسال درخواست‌های HTTP، مناسب برای یادگیری API |\n",
    "| `numpy`      | محاسبات عددی و آرایه‌ای، پایه‌ی پردازش داده    |\n",
    "| `pandas`     | تحلیل و ساختاردهی داده‌ها                      |\n",
    "| `matplotlib` | رسم نمودارها و گراف‌ها                         |\n",
    "| `pygame`     | ساخت بازی‌های ساده و پروژه‌های گرافیکی         |\n",
    "| `rich`       | زیباسازی خروجی ترمینال، مناسب برای تمرین CLI   |\n",
    "| `pyfiglet`   | چاپ متن‌های زیبا و هنری در ترمینال             |\n",
    "| `colorama`   | رنگی کردن متن در ترمینال                       |\n",
    "| `tqdm`       | نمایش نوار پیشرفت (progress bar)               |\n",
    "| `faker`      | ساخت داده‌های جعلی برای تمرین دیتابیس یا API   |\n",
    "\n",
    "---\n",
    "\n",
    "### ✳️ مثال نصب:\n",
    "\n",
    "```bash\n",
    "pip install requests\n",
    "```\n",
    "\n",
    "---\n",
    "\n",
    "اگر بخواهید پروژه‌محور درس بدهید، می‌توانم بسته‌ها را متناسب با هر پروژه پیشنهاد دهم.\n"
   ]
  },
  {
   "cell_type": "code",
   "execution_count": 1,
   "id": "6db9914e",
   "metadata": {},
   "outputs": [
    {
     "data": {
      "text/html": [
       "<pre style=\"white-space:pre;overflow-x:auto;line-height:normal;font-family:Menlo,'DejaVu Sans Mono',consolas,'Courier New',monospace\"><span style=\"color: #800080; text-decoration-color: #800080; font-weight: bold\">سلام! این متن رنگی و بولد است</span>\n",
       "</pre>\n"
      ],
      "text/plain": [
       "\u001b[1;35mسلام! این متن رنگی و بولد است\u001b[0m\n"
      ]
     },
     "metadata": {},
     "output_type": "display_data"
    }
   ],
   "source": [
    "from rich import print\n",
    "\n",
    "print(\"[bold magenta]سلام! این متن رنگی و بولد است[/bold magenta]\")"
   ]
  },
  {
   "cell_type": "code",
   "execution_count": 2,
   "id": "16a3eb56",
   "metadata": {},
   "outputs": [
    {
     "data": {
      "text/html": [
       "<pre style=\"white-space:pre;overflow-x:auto;line-height:normal;font-family:Menlo,'DejaVu Sans Mono',consolas,'Courier New',monospace\"> ____        _   _                 \n",
       "|  _ \\ _   _| |_| |__   ___  _ __  \n",
       "| |_<span style=\"font-weight: bold\">)</span> | | | | __| <span style=\"color: #008000; text-decoration-color: #008000\">'_ \\ / _ \\| '</span>_ \\ \n",
       "|  __/| |_| | |_| | | | <span style=\"font-weight: bold\">(</span>_<span style=\"font-weight: bold\">)</span> | | | |\n",
       "|_|    \\__, |\\__|_| |_|\\___/|_| |_|\n",
       "       |___/                       \n",
       "\n",
       "</pre>\n"
      ],
      "text/plain": [
       " ____        _   _                 \n",
       "|  _ \\ _   _| |_| |__   ___  _ __  \n",
       "| |_\u001b[1m)\u001b[0m | | | | __| \u001b[32m'_ \\ / _ \\| '\u001b[0m_ \\ \n",
       "|  __/| |_| | |_| | | | \u001b[1m(\u001b[0m_\u001b[1m)\u001b[0m | | | |\n",
       "|_|    \\__, |\\__|_| |_|\\___/|_| |_|\n",
       "       |___/                       \n",
       "\n"
      ]
     },
     "metadata": {},
     "output_type": "display_data"
    }
   ],
   "source": [
    "import pyfiglet\n",
    "\n",
    "text = pyfiglet.figlet_format(\"Python\")\n",
    "print(text)\n"
   ]
  },
  {
   "cell_type": "code",
   "execution_count": 3,
   "id": "e36f5927",
   "metadata": {},
   "outputs": [
    {
     "name": "stderr",
     "output_type": "stream",
     "text": [
      "100%|██████████| 10/10 [00:02<00:00,  4.92it/s]\n"
     ]
    }
   ],
   "source": [
    "from tqdm import tqdm\n",
    "import time\n",
    "\n",
    "for i in tqdm(range(10)):\n",
    "    time.sleep(0.2)  # شبیه‌سازی عملیات زمان‌بر\n"
   ]
  },
  {
   "cell_type": "code",
   "execution_count": 4,
   "id": "6c3585c2",
   "metadata": {},
   "outputs": [
    {
     "data": {
      "text/html": [
       "<pre style=\"white-space:pre;overflow-x:auto;line-height:normal;font-family:Menlo,'DejaVu Sans Mono',consolas,'Courier New',monospace\">John Jensen\n",
       "</pre>\n"
      ],
      "text/plain": [
       "John Jensen\n"
      ]
     },
     "metadata": {},
     "output_type": "display_data"
    },
    {
     "data": {
      "text/html": [
       "<pre style=\"white-space:pre;overflow-x:auto;line-height:normal;font-family:Menlo,'DejaVu Sans Mono',consolas,'Courier New',monospace\">wesleygregory@example.net\n",
       "</pre>\n"
      ],
      "text/plain": [
       "wesleygregory@example.net\n"
      ]
     },
     "metadata": {},
     "output_type": "display_data"
    },
    {
     "data": {
      "text/html": [
       "<pre style=\"white-space:pre;overflow-x:auto;line-height:normal;font-family:Menlo,'DejaVu Sans Mono',consolas,'Courier New',monospace\"><span style=\"color: #008080; text-decoration-color: #008080; font-weight: bold\">53271</span> Ronald Hollow\n",
       "West Richard, WY <span style=\"color: #008080; text-decoration-color: #008080; font-weight: bold\">16504</span>\n",
       "</pre>\n"
      ],
      "text/plain": [
       "\u001b[1;36m53271\u001b[0m Ronald Hollow\n",
       "West Richard, WY \u001b[1;36m16504\u001b[0m\n"
      ]
     },
     "metadata": {},
     "output_type": "display_data"
    }
   ],
   "source": [
    "from faker import Faker\n",
    "\n",
    "fake = Faker()\n",
    "\n",
    "print(fake.name())       # نام تصادفی\n",
    "print(fake.email())      # ایمیل جعلی\n",
    "print(fake.address())    # آدرس ساختگی\n"
   ]
  }
 ],
 "metadata": {
  "kernelspec": {
   "display_name": "Python 3",
   "language": "python",
   "name": "python3"
  },
  "language_info": {
   "codemirror_mode": {
    "name": "ipython",
    "version": 3
   },
   "file_extension": ".py",
   "mimetype": "text/x-python",
   "name": "python",
   "nbconvert_exporter": "python",
   "pygments_lexer": "ipython3",
   "version": "3.13.5"
  }
 },
 "nbformat": 4,
 "nbformat_minor": 5
}
