{
 "cells": [
  {
   "cell_type": "markdown",
   "id": "a1e4998d",
   "metadata": {},
   "source": [
    "```bash\n",
    "pip install django\n",
    "```"
   ]
  },
  {
   "cell_type": "markdown",
   "id": "43681b87",
   "metadata": {},
   "source": [
    "```bash\n",
    "python -m django startproject myproject\n",
    "```"
   ]
  }
 ],
 "metadata": {
  "kernelspec": {
   "display_name": "Python 3",
   "language": "python",
   "name": "python3"
  },
  "language_info": {
   "codemirror_mode": {
    "name": "ipython",
    "version": 3
   },
   "file_extension": ".py",
   "mimetype": "text/x-python",
   "name": "python",
   "nbconvert_exporter": "python",
   "pygments_lexer": "ipython3",
   "version": "3.13.5"
  }
 },
 "nbformat": 4,
 "nbformat_minor": 5
}
